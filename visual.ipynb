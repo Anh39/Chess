{
 "cells": [
  {
   "cell_type": "code",
   "execution_count": 20,
   "metadata": {},
   "outputs": [],
   "source": [
    "import json\n",
    "with open('logs.json','r') as file:\n",
    "    datas = json.loads(file.read())\n"
   ]
  },
  {
   "cell_type": "code",
   "execution_count": 21,
   "metadata": {},
   "outputs": [
    {
     "name": "stdout",
     "output_type": "stream",
     "text": [
      "3\n",
      "10.691661993662516\n"
     ]
    }
   ],
   "source": [
    "total_time = 0\n",
    "count = 0\n",
    "for i in range(1,len(datas)):\n",
    "    if (i%2==0):\n",
    "        count += 1\n",
    "        total_time += datas[i]['time']\n",
    "print(count)\n",
    "print(total_time/count) "
   ]
  }
 ],
 "metadata": {
  "kernelspec": {
   "display_name": "se",
   "language": "python",
   "name": "python3"
  },
  "language_info": {
   "codemirror_mode": {
    "name": "ipython",
    "version": 3
   },
   "file_extension": ".py",
   "mimetype": "text/x-python",
   "name": "python",
   "nbconvert_exporter": "python",
   "pygments_lexer": "ipython3",
   "version": "3.11.8"
  }
 },
 "nbformat": 4,
 "nbformat_minor": 2
}
