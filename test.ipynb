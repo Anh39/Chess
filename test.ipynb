{
 "cells": [
  {
   "cell_type": "code",
   "execution_count": null,
   "metadata": {},
   "outputs": [],
   "source": [
    "from game import board\n",
    "from server import MyHTTPRequeestHandler"
   ]
  },
  {
   "cell_type": "code",
   "execution_count": null,
   "metadata": {},
   "outputs": [],
   "source": [
    "test_board = board()\n",
    "test_board.start()\n",
    "side = 'down'\n",
    "test_board.out_render()\n",
    "while(True):\n",
    "    command = str(input())\n",
    "    if (command == 'select'):\n",
    "        pos_x = int(input())\n",
    "        pos_y = int(input())\n",
    "        if (test_board._has([pos_x,pos_y])):\n",
    "            if (test_board.container[pos_x][pos_y][1] != side):\n",
    "                print('Not your piece')\n",
    "                continue\n",
    "            else:\n",
    "                test_board.out_moveable(test_board.get_move(pos_x,pos_y),side)\n",
    "        else:\n",
    "            print('Invalid selection')\n",
    "    elif(command == 'move'):\n",
    "        from_x = int(input())\n",
    "        from_y = int(input())\n",
    "        to_x = int(input())\n",
    "        to_y = int(input())\n",
    "        if (test_board._has([from_x,from_x])):\n",
    "            if (test_board.container[from_x][from_y][1] != side):\n",
    "                print('Not your piece')\n",
    "                continue\n",
    "            elif(not test_board.move(from_x,from_y,to_x,to_y,side)):\n",
    "                print('Invalid move')\n",
    "        else:\n",
    "            print('Invalid move * ')\n",
    "            continue\n",
    "        if (side == 'down'):\n",
    "            side = 'up'\n",
    "        else:\n",
    "            side = 'down'\n",
    "        test_board.out_render()\n",
    "    elif(command == 'exit'):\n",
    "        break\n",
    "    else:\n",
    "        test_board.out_render()\n",
    "        print('Invalid command')"
   ]
  },
  {
   "cell_type": "code",
   "execution_count": null,
   "metadata": {},
   "outputs": [],
   "source": [
    "test_board = board()\n",
    "test_board.start()\n",
    "test_board.out_render()\n",
    "\n",
    "print(test_board.get_move(0,0))"
   ]
  },
  {
   "cell_type": "code",
   "execution_count": null,
   "metadata": {},
   "outputs": [],
   "source": [
    "print(test_board.check_move(0,6,'down'))"
   ]
  },
  {
   "cell_type": "code",
   "execution_count": null,
   "metadata": {},
   "outputs": [],
   "source": [
    "test_board.out_moveable(test_board.get_move(0,0),'up')"
   ]
  },
  {
   "cell_type": "code",
   "execution_count": 1,
   "metadata": {},
   "outputs": [
    {
     "name": "stdout",
     "output_type": "stream",
     "text": [
      "Server is listening on: http://127.0.0.1:6969\n",
      "GET\n",
      "GET\n",
      "GET\n",
      "GET\n",
      "GET\n"
     ]
    },
    {
     "name": "stderr",
     "output_type": "stream",
     "text": [
      "127.0.0.1 - - [20/Feb/2024 07:28:14] \"GET / HTTP/1.1\" 200 -\n",
      "127.0.0.1 - - [20/Feb/2024 07:28:14] \"GET /style.css HTTP/1.1\" 200 -\n",
      "127.0.0.1 - - [20/Feb/2024 07:28:14] \"GET /client.js HTTP/1.1\" 200 -\n",
      "127.0.0.1 - - [20/Feb/2024 07:28:14] \"GET /board.png HTTP/1.1\" 200 -\n",
      "127.0.0.1 - - [20/Feb/2024 07:28:14] \"GET /favicon.ico HTTP/1.1\" 200 -\n"
     ]
    }
   ],
   "source": [
    "from http.server import HTTPServer\n",
    "from game import board\n",
    "from server import MyHTTPRequeestHandler\n",
    "\n",
    "local_add = '127.0.0.1'\n",
    "port = 6969\n",
    "def run(server_class = HTTPServer,handler_class=MyHTTPRequeestHandler,port=port,local = local_add):\n",
    "    server_address = (local,port)\n",
    "    httpd = server_class(server_address,handler_class)\n",
    "    print(f'Server is listening on: http://{local}:{port}')\n",
    "    httpd.serve_forever()\n",
    "run()"
   ]
  }
 ],
 "metadata": {
  "kernelspec": {
   "display_name": "Python 3",
   "language": "python",
   "name": "python3"
  },
  "language_info": {
   "codemirror_mode": {
    "name": "ipython",
    "version": 3
   },
   "file_extension": ".py",
   "mimetype": "text/x-python",
   "name": "python",
   "nbconvert_exporter": "python",
   "pygments_lexer": "ipython3",
   "version": "3.10.6"
  }
 },
 "nbformat": 4,
 "nbformat_minor": 2
}
